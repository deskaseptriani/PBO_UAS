{
 "cells": [
  {
   "cell_type": "code",
   "execution_count": 2,
   "metadata": {},
   "outputs": [
    {
     "data": {
      "application/vnd.jupyter.widget-view+json": {
       "model_id": "350ccff5-585f-4e10-9428-1d6d929c95b4",
       "version_major": 2,
       "version_minor": 0
      },
      "method": "display_data"
     },
     "metadata": {},
     "output_type": "display_data"
    }
   ],
   "source": [
    "%classpath add jar libs/*"
   ]
  },
  {
   "cell_type": "code",
   "execution_count": 7,
   "metadata": {},
   "outputs": [
    {
     "data": {
      "text/html": [
       "<html></html>"
      ]
     },
     "execution_count": 7,
     "metadata": {},
     "output_type": "execute_result"
    }
   ],
   "source": [
    "//Render HTML\n",
    "%%html"
   ]
  },
  {
   "cell_type": "code",
   "execution_count": 8,
   "metadata": {},
   "outputs": [
    {
     "data": {
      "application/vnd.jupyter.widget-view+json": {
       "model_id": "",
       "version_major": 2,
       "version_minor": 0
      },
      "method": "display_data"
     },
     "metadata": {},
     "output_type": "display_data"
    },
    {
     "data": {
      "application/vnd.jupyter.widget-view+json": {
       "model_id": "760763c1-b791-49cb-b9d9-ee2a4d02bae5",
       "version_major": 2,
       "version_minor": 0
      },
      "method": "display_data"
     },
     "metadata": {},
     "output_type": "display_data"
    }
   ],
   "source": [
    "%%classpath add mvn\n",
    "tech.tablesaw tablesaw-beakerx 0.30.3\n",
    "tech.tablesaw tablesaw-jsplot 0.37.0\n",
    "tech.tablesaw tablesaw-plot 0.24.4"
   ]
  },
  {
   "cell_type": "code",
   "execution_count": 11,
   "metadata": {},
   "outputs": [
    {
     "name": "stdout",
     "output_type": "stream",
     "text": [
      "        Structure of 12181606.csv         \n",
      " Index  |  Column Name   |  Column Type  |\n",
      "------------------------------------------\n",
      "     0  |           _id  |      INTEGER  |\n",
      "     1  |           idx  |      INTEGER  |\n",
      "     2  |        series  |       STRING  |\n",
      "     3  |  kode_wilayah  |      INTEGER  |\n",
      "     4  |       wilayah  |       STRING  |\n",
      "     5  |         tahun  |      INTEGER  |\n",
      "     6  |      triwulan  |       STRING  |\n",
      "     7  |         bulan  |       STRING  |\n",
      "     8  |       tanggal  |       STRING  |\n",
      "     9  |         nilai  |         LONG  |\n",
      "    10  |        target  |       STRING  |\n",
      "447 rows X 11 cols\n",
      "        Structure of 12181606.xlsx        \n",
      " Index  |  Column Name   |  Column Type  |\n",
      "------------------------------------------\n",
      "     0  |           _id  |      INTEGER  |\n",
      "     1  |           idx  |      INTEGER  |\n",
      "     2  |        series  |       STRING  |\n",
      "     3  |  kode_wilayah  |      INTEGER  |\n",
      "     4  |       wilayah  |       STRING  |\n",
      "     5  |         tahun  |      INTEGER  |\n",
      "     6  |         nilai  |         LONG  |\n",
      "                                                          12181606.xlsx                                                           \n",
      " _id   |  idx   |                   series                    |  kode_wilayah  |         wilayah         |  tahun  |    nilai    |\n",
      "----------------------------------------------------------------------------------------------------------------------------------\n",
      " 2006  |  2005  |  Kerugian Materi Akibat Kekeringan (Lahan)  |       1707011  |      TOPOS/JURU KALANG  |   2011  |             |\n",
      " 2007  |  2006  |  Kerugian Materi Akibat Kekeringan (Lahan)  |       1707020  |         LEBONG SELATAN  |   2011  |             |\n",
      " 2008  |  2007  |  Kerugian Materi Akibat Kekeringan (Lahan)  |       1707021  |          BINGIN KUNING  |   2011  |             |\n",
      " 2009  |  2008  |  Kerugian Materi Akibat Kekeringan (Lahan)  |       1707030  |          LEBONG TENGAH  |   2011  |             |\n",
      " 2010  |  2009  |  Kerugian Materi Akibat Kekeringan (Lahan)  |       1707031  |           LEBONG SAKTI  |   2011  |             |\n",
      " 2011  |  2010  |  Kerugian Materi Akibat Kekeringan (Lahan)  |       1707040  |            LEBONG ATAS  |   2011  |  250000000  |\n",
      " 2012  |  2011  |  Kerugian Materi Akibat Kekeringan (Lahan)  |       1707041  |            PADANG BANO  |   2011  |             |\n",
      " 2013  |  2012  |  Kerugian Materi Akibat Kekeringan (Lahan)  |       1707042  |  PELABAI/SUKU SEMBILAN  |   2011  |             |\n",
      " 2014  |  2013  |  Kerugian Materi Akibat Kekeringan (Lahan)  |       1707050  |           LEBONG UTARA  |   2011  |             |\n",
      " 2015  |  2014  |  Kerugian Materi Akibat Kekeringan (Lahan)  |       1707051  |                   AMEN  |   2011  |             |\n",
      "  ...  |   ...  |                                        ...  |           ...  |                    ...  |    ...  |        ...  |\n",
      " 2490  |  2489  |  Kerugian Materi Akibat Kekeringan (Lahan)  |       3202270  |         KALAPA NUNGGAL  |   2011  |             |\n",
      " 2491  |  2490  |  Kerugian Materi Akibat Kekeringan (Lahan)  |       3202280  |               CIKIDANG  |   2011  |    9000000  |\n",
      " 2492  |  2491  |  Kerugian Materi Akibat Kekeringan (Lahan)  |       3202290  |                CISOLOK  |   2011  |  750000000  |\n",
      " 2493  |  2492  |  Kerugian Materi Akibat Kekeringan (Lahan)  |       3202291  |                CIKAKAK  |   2011  |   30000000  |\n",
      " 2494  |  2493  |  Kerugian Materi Akibat Kekeringan (Lahan)  |       3202300  |            KABANDUNGAN  |   2011  |             |\n",
      " 2495  |  2494  |  Kerugian Materi Akibat Kekeringan (Lahan)  |       3203010  |              AGRABINTA  |   2011  |             |\n",
      " 2496  |  2495  |  Kerugian Materi Akibat Kekeringan (Lahan)  |       3203011  |                  LELES  |   2011  |             |\n",
      " 2497  |  2496  |  Kerugian Materi Akibat Kekeringan (Lahan)  |       3203020  |          SINDANGBARANG  |   2011  |             |\n",
      " 2498  |  2497  |  Kerugian Materi Akibat Kekeringan (Lahan)  |       3203030  |                 CIDAUN  |   2011  |             |\n",
      " 2499  |  2498  |  Kerugian Materi Akibat Kekeringan (Lahan)  |       3203040  |              NARINGGUL  |   2011  |             |\n"
     ]
    },
    {
     "ename": "ERROR",
     "evalue": " java.lang.IllegalStateException",
     "output_type": "error",
     "traceback": [
      "\u001b[1;31mERROR: java.lang.IllegalStateException: Column triwulan does not exist in table 12181606.xlsx\u001b[0;0m"
     ]
    }
   ],
   "source": [
    "package tech.tablesaw.examples;\n",
    "\n",
    "import tech.tablesaw.api.*;\n",
    "import tech.tablesaw.io.xlsx.*;\n",
    "import tech.tablesaw.io.csv.*;\n",
    "import static tech.tablesaw.aggregate.AggregateFunctions.*;\n",
    "\n",
    "import tech.tablesaw.api.NumericColumn;\n",
    "import tech.tablesaw.api.Table;\n",
    "import tech.tablesaw.plotly.Plot;\n",
    "import tech.tablesaw.plotly.components.Figure;\n",
    "import tech.tablesaw.plotly.components.Line;\n",
    "import tech.tablesaw.plotly.components.Layout;\n",
    "import tech.tablesaw.plotly.traces.ScatterTrace;\n",
    "import tech.tablesaw.plotly.components.Marker;\n",
    "import tech.tablesaw.plotly.traces.BarTrace;\n",
    "import tech.tablesaw.plotly.traces.Trace;\n",
    "import tech.tablesaw.plotly.api.LinePlot;\n",
    "import tech.tablesaw.plotly.api.ScatterPlot;\n",
    "import tech.tablesaw.plotly.api.VerticalBarPlot;\n",
    "\n",
    "\n",
    "// display Tablesaw tables with BeakerX table display widget\n",
    "tech.tablesaw.beakerx.TablesawDisplayer.register();\n",
    "\n",
    "//init objek file CSV\n",
    "Table  dfSmallgrade= Table.read().csv(\"12181606.csv\");\n",
    "//struktur file CSV\n",
    "System.out.println(dfSmallgrade.structure());\n",
    "//ordo file CSV \n",
    "System.out.println(dfSmallgrade.shape());\n",
    "\n",
    "//init objek XlsReader\n",
    "\n",
    "XlsxReader reader = new XlsxReader();\n",
    "XlsxReadOptions options = XlsxReadOptions.builder(\"12181606.xlsx\").build();\n",
    "Table tab = reader.read(options);\n",
    "\n",
    "Table dfDataXLS = reader.read(options);\n",
    "\n",
    "//Menampilkan struktur data frame dfDataXLS\n",
    "System.out.println(dfDataXLS.structure());\n",
    "System.out.println(dfDataXLS);\n",
    "\n",
    "Table datagabung = dfSmallgrade.append(dfDataXLS);\n",
    "System.out.println(datagabung.last(10)); \n",
    "\n",
    "//menampilkan data gabungan\n",
    "System.out.print(datagabung.summarize(\"nilai\", mean, max, min,sum).apply());\n",
    "\n",
    "Plot.show(\n",
    "    ScatterPlot.create(\n",
    "        \"Kerugian Materi Akibat Kekeringan\",\n",
    "        datagabung,\n",
    "        \"tahun\",\n",
    "        \"nilai\",\n",
    "        \"wilayah\"\n",
    "    )\n",
    ");"
   ]
  }
 ],
 "metadata": {
  "kernelspec": {
   "display_name": "Java",
   "language": "java",
   "name": "java"
  },
  "language_info": {
   "codemirror_mode": "text/x-java",
   "file_extension": ".java",
   "mimetype": "",
   "name": "Java",
   "nbconverter_exporter": "",
   "version": "1.8.0_121"
  },
  "toc": {
   "base_numbering": 1,
   "nav_menu": {},
   "number_sections": false,
   "sideBar": false,
   "skip_h1_title": false,
   "title_cell": "Table of Contents",
   "title_sidebar": "Contents",
   "toc_cell": false,
   "toc_position": {},
   "toc_section_display": false,
   "toc_window_display": false
  }
 },
 "nbformat": 4,
 "nbformat_minor": 2
}
